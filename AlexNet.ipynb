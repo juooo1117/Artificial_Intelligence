{
  "cells": [
    {
      "cell_type": "markdown",
      "metadata": {
        "id": "view-in-github",
        "colab_type": "text"
      },
      "source": [
        "<a href=\"https://colab.research.google.com/github/juooo1117/Artificial_Intelligence/blob/main/alexnet_2.ipynb\" target=\"_parent\"><img src=\"https://colab.research.google.com/assets/colab-badge.svg\" alt=\"Open In Colab\"/></a>"
      ]
    },
    {
      "cell_type": "code",
      "execution_count": 2,
      "metadata": {
        "id": "GWabQ0AjjJPJ"
      },
      "outputs": [],
      "source": [
        "import os # 파이썬을 이용해 파일을 복사하거나 디렉터리를 생성하고 특정 디렉터리 내의 파일 목록을 구하고자 할 때 사용\n",
        "import numpy as np\n",
        "import pandas as pd\n",
        "import matplotlib.pyplot as plt\n",
        "import torch\n",
        "import torchvision # torchvision package : 컴퓨터 비전을 위한 유명 데이터셋, 모델 아키텍처, 이미지 변형등을 포함\n",
        "import torch.nn as nn # nn : neural netwroks (define class) attribute를 활용해 state를 저장하고 활용\n",
        "import torch.optim as optim # 최적화 알고리즘\n",
        "import torch.nn.functional as F # (define function) 인스턴스화 시킬 필요없이 사용 가능\n",
        "from PIL import Image\n",
        "from torchvision import transforms, datasets # transforms : 데이터를 조작하고 학습에 적합하게 만듦.\n",
        "from torch.utils.data import Dataset, DataLoader\n",
        "\n",
        "import sys\n",
        "import tensorflow as tf\n",
        "import keras\n",
        "from keras.models import Sequential\n",
        "from keras.layers import Dense, Dropout, Flatten"
      ]
    },
    {
      "cell_type": "code",
      "execution_count": 3,
      "metadata": {
        "colab": {
          "base_uri": "https://localhost:8080/"
        },
        "id": "rIQLV6Sxcmdq",
        "outputId": "cd4f88f2-8bc5-4572-b92c-d79f6402717d"
      },
      "outputs": [
        {
          "output_type": "stream",
          "name": "stdout",
          "text": [
            "TensorFlow version :  2.13.0\n",
            "Keras version :  2.13.1\n"
          ]
        }
      ],
      "source": [
        "print('TensorFlow version : ', tf.__version__)\n",
        "print('Keras version : ', keras.__version__)"
      ]
    },
    {
      "cell_type": "code",
      "execution_count": 4,
      "metadata": {
        "colab": {
          "base_uri": "https://localhost:8080/"
        },
        "id": "plJcxkVzjZDW",
        "outputId": "7c4798d4-ff13-4ad4-c670-2991aff119a2"
      },
      "outputs": [
        {
          "output_type": "stream",
          "name": "stdout",
          "text": [
            "cuda\n"
          ]
        }
      ],
      "source": [
        "epochs = 3\n",
        "\n",
        "device = torch.device('cuda' if torch.cuda.is_available() else 'cpu')\n",
        "class_names = ['T-shirt/top', 'Trouser', 'Pullover', 'Dress', 'Coat',\n",
        "               'Sandal', 'Shirt', 'Sneaker', 'Bag', 'Ankle boot']\n",
        "print(device)"
      ]
    },
    {
      "cell_type": "code",
      "execution_count": 5,
      "metadata": {
        "id": "_K6yFZA8jhpp",
        "colab": {
          "base_uri": "https://localhost:8080/"
        },
        "outputId": "e43731d6-242b-4550-a324-ae70962a10c6"
      },
      "outputs": [
        {
          "output_type": "stream",
          "name": "stdout",
          "text": [
            "Downloading http://fashion-mnist.s3-website.eu-central-1.amazonaws.com/train-images-idx3-ubyte.gz\n",
            "Downloading http://fashion-mnist.s3-website.eu-central-1.amazonaws.com/train-images-idx3-ubyte.gz to data/FashionMNIST/raw/train-images-idx3-ubyte.gz\n"
          ]
        },
        {
          "output_type": "stream",
          "name": "stderr",
          "text": [
            "100%|██████████| 26421880/26421880 [00:02<00:00, 11047306.44it/s]\n"
          ]
        },
        {
          "output_type": "stream",
          "name": "stdout",
          "text": [
            "Extracting data/FashionMNIST/raw/train-images-idx3-ubyte.gz to data/FashionMNIST/raw\n",
            "\n",
            "Downloading http://fashion-mnist.s3-website.eu-central-1.amazonaws.com/train-labels-idx1-ubyte.gz\n",
            "Downloading http://fashion-mnist.s3-website.eu-central-1.amazonaws.com/train-labels-idx1-ubyte.gz to data/FashionMNIST/raw/train-labels-idx1-ubyte.gz\n"
          ]
        },
        {
          "output_type": "stream",
          "name": "stderr",
          "text": [
            "100%|██████████| 29515/29515 [00:00<00:00, 173285.84it/s]\n"
          ]
        },
        {
          "output_type": "stream",
          "name": "stdout",
          "text": [
            "Extracting data/FashionMNIST/raw/train-labels-idx1-ubyte.gz to data/FashionMNIST/raw\n",
            "\n",
            "Downloading http://fashion-mnist.s3-website.eu-central-1.amazonaws.com/t10k-images-idx3-ubyte.gz\n",
            "Downloading http://fashion-mnist.s3-website.eu-central-1.amazonaws.com/t10k-images-idx3-ubyte.gz to data/FashionMNIST/raw/t10k-images-idx3-ubyte.gz\n"
          ]
        },
        {
          "output_type": "stream",
          "name": "stderr",
          "text": [
            "100%|██████████| 4422102/4422102 [00:01<00:00, 3264954.22it/s]\n"
          ]
        },
        {
          "output_type": "stream",
          "name": "stdout",
          "text": [
            "Extracting data/FashionMNIST/raw/t10k-images-idx3-ubyte.gz to data/FashionMNIST/raw\n",
            "\n",
            "Downloading http://fashion-mnist.s3-website.eu-central-1.amazonaws.com/t10k-labels-idx1-ubyte.gz\n",
            "Downloading http://fashion-mnist.s3-website.eu-central-1.amazonaws.com/t10k-labels-idx1-ubyte.gz to data/FashionMNIST/raw/t10k-labels-idx1-ubyte.gz\n"
          ]
        },
        {
          "output_type": "stream",
          "name": "stderr",
          "text": [
            "100%|██████████| 5148/5148 [00:00<00:00, 8504244.58it/s]"
          ]
        },
        {
          "output_type": "stream",
          "name": "stdout",
          "text": [
            "Extracting data/FashionMNIST/raw/t10k-labels-idx1-ubyte.gz to data/FashionMNIST/raw\n",
            "\n"
          ]
        },
        {
          "output_type": "stream",
          "name": "stderr",
          "text": [
            "\n"
          ]
        }
      ],
      "source": [
        "transform = transforms.Compose([\n",
        "    transforms.Resize(227),\n",
        "    transforms.ToTensor()])\n",
        "\n",
        "training_data = datasets.FashionMNIST(\n",
        "    root=\"data\",\n",
        "    train=True,\n",
        "    download=True,\n",
        "    transform=transform\n",
        ")\n",
        "\n",
        "validation_data = datasets.FashionMNIST(\n",
        "    root=\"data\",\n",
        "    train=False,\n",
        "    download=True,\n",
        "    transform=transform\n",
        ")"
      ]
    },
    {
      "cell_type": "code",
      "execution_count": 6,
      "metadata": {
        "colab": {
          "base_uri": "https://localhost:8080/"
        },
        "id": "3nyRX1Wcp0AA",
        "outputId": "03232de1-4c3b-445f-d41b-abf398de99be"
      },
      "outputs": [
        {
          "output_type": "execute_result",
          "data": {
            "text/plain": [
              "Dataset FashionMNIST\n",
              "    Number of datapoints: 60000\n",
              "    Root location: data\n",
              "    Split: Train\n",
              "    StandardTransform\n",
              "Transform: Compose(\n",
              "               Resize(size=227, interpolation=bilinear, max_size=None, antialias=warn)\n",
              "               ToTensor()\n",
              "           )"
            ]
          },
          "metadata": {},
          "execution_count": 6
        }
      ],
      "source": [
        "training_data"
      ]
    },
    {
      "cell_type": "code",
      "execution_count": 7,
      "metadata": {
        "colab": {
          "base_uri": "https://localhost:8080/"
        },
        "id": "5U_jGdDnqExC",
        "outputId": "96d476c6-f0d4-4122-bc1e-06206de5d7b5"
      },
      "outputs": [
        {
          "output_type": "execute_result",
          "data": {
            "text/plain": [
              "Dataset FashionMNIST\n",
              "    Number of datapoints: 10000\n",
              "    Root location: data\n",
              "    Split: Test\n",
              "    StandardTransform\n",
              "Transform: Compose(\n",
              "               Resize(size=227, interpolation=bilinear, max_size=None, antialias=warn)\n",
              "               ToTensor()\n",
              "           )"
            ]
          },
          "metadata": {},
          "execution_count": 7
        }
      ],
      "source": [
        "validation_data"
      ]
    },
    {
      "cell_type": "markdown",
      "metadata": {
        "id": "8bFluJdkjsh1"
      },
      "source": [
        "# **데이터로더 (DataLoader)Permalink**\n",
        "\n",
        "데이터를 batch 단위로 모델에 넣어줌\n",
        "\n",
        "전체 데이터 가운데 일부 인스턴스를 뽑아(sample) 배치를 구성한다."
      ]
    },
    {
      "cell_type": "code",
      "execution_count": 8,
      "metadata": {
        "id": "1JwRc8OqjnQR"
      },
      "outputs": [],
      "source": [
        "training_loader = DataLoader(training_data, batch_size=64, shuffle=True)\n",
        "validation_loader = DataLoader(validation_data, batch_size=64, shuffle=True)"
      ]
    },
    {
      "cell_type": "code",
      "execution_count": 9,
      "metadata": {
        "colab": {
          "base_uri": "https://localhost:8080/"
        },
        "id": "gt-awKMWqSuN",
        "outputId": "11041b10-9538-44d2-8a57-87f933edcd26"
      },
      "outputs": [
        {
          "output_type": "stream",
          "name": "stdout",
          "text": [
            "64\n",
            "64\n"
          ]
        }
      ],
      "source": [
        "print(training_loader.batch_size)\n",
        "print(validation_loader.batch_size)"
      ]
    },
    {
      "cell_type": "code",
      "execution_count": 10,
      "metadata": {
        "colab": {
          "base_uri": "https://localhost:8080/",
          "height": 452
        },
        "id": "tqInjnr_j_ys",
        "outputId": "f5ab68cf-2840-4039-a863-c782146ab279"
      },
      "outputs": [
        {
          "output_type": "stream",
          "name": "stdout",
          "text": [
            "Shirt\n"
          ]
        },
        {
          "output_type": "display_data",
          "data": {
            "text/plain": [
              "<Figure size 640x480 with 1 Axes>"
            ],
            "image/png": "[encoded data removed]"
          },
          "metadata": {}
        }
      ],
      "source": [
        "def matplotlib_imshow(img):\n",
        "    img = img.mean(dim=0)\n",
        "    img = img / 2 + 0.5\n",
        "    npimg = img.numpy()\n",
        "    plt.imshow(npimg, cmap=\"Greys\")\n",
        "\n",
        "# get some random training images\n",
        "images, labels = next(iter(training_loader))\n",
        "\n",
        "# create grid of images\n",
        "img_grid = torchvision.utils.make_grid(images[0])\n",
        "\n",
        "# show images & labels\n",
        "matplotlib_imshow(img_grid)\n",
        "print(class_names[labels[0]])"
      ]
    },
    {
      "cell_type": "markdown",
      "metadata": {
        "id": "r0mIlkFOkCyq"
      },
      "source": [
        "# **AlexNet 모델구현**\n",
        "\n",
        "파이토치에서 제공하는 layer를 사용하여 모델 빌드를 간편하게 하기 위해서는\n",
        "\n",
        "nn.Module을 상속받고, 이를 초기화 함으로써 nn.Module에서 상속받는 특성들을 초기화해주는 것이 필요하다."
      ]
    },
    {
      "cell_type": "code",
      "execution_count": 11,
      "metadata": {
        "id": "FoZbwmoQ2gF0"
      },
      "outputs": [],
      "source": [
        "import torch.nn as nn\n",
        "import torch.nn.functional as F\n",
        "\n",
        "class my_alexnet(nn.Module):\n",
        "    def __init__(self, fashion_label=10):\n",
        "        super(my_alexnet,self).__init__()\n",
        "\n",
        "      # Convolution layer\n",
        "        self.convolution = nn.Sequential(\n",
        "            #CONV1\n",
        "            nn.Conv2d(in_channels=1, out_channels=96, kernel_size=11, stride=4, padding=0),\n",
        "            nn.ReLU(),\n",
        "            nn.MaxPool2d(kernel_size=3, stride=2),\n",
        "            nn.LocalResponseNorm(size=5, alpha=0.0001, beta=0.75, k=2),\n",
        "\n",
        "            #CONV2\n",
        "            nn.Conv2d(96, 256, kernel_size=5, stride=1, padding=2),\n",
        "            nn.ReLU(),\n",
        "            nn.MaxPool2d(kernel_size=3, stride=2),\n",
        "            nn.LocalResponseNorm(size=5, alpha=0.0001, beta=0.75, k=2),\n",
        "\n",
        "            #CONV3\n",
        "            nn.Conv2d(256, 384, kernel_size=3, stride=1, padding=1),\n",
        "            nn.ReLU(),\n",
        "\n",
        "            #CONV4\n",
        "            nn.Conv2d(384, 384, kernel_size=3, stride=1, padding=1),\n",
        "            nn.ReLU(),\n",
        "\n",
        "            #CONV5\n",
        "            nn.Conv2d(384, 256, kernel_size=3, stride=1, padding=1),\n",
        "            nn.ReLU(),\n",
        "            nn.MaxPool2d(kernel_size=3, stride=2),\n",
        "        )\n",
        "\n",
        "\n",
        "     # Fully connected layer\n",
        "        self.fully_connected = nn.Sequential(\n",
        "            #FC1\n",
        "            nn.Dropout(p=0.5, inplace=True),\n",
        "            nn.Linear(in_features=(256 * 6 * 6), out_features=4096),\n",
        "            nn.ReLU(),\n",
        "\n",
        "            #FC2\n",
        "            nn.Dropout(p=0.5, inplace=True),\n",
        "            nn.Linear(in_features=4096, out_features=4096),\n",
        "            nn.ReLU(),\n",
        "\n",
        "            #FC3 ( = output 10개의 fashion_label)\n",
        "            nn.Linear(in_features=4096, out_features=fashion_label),\n",
        "        )\n",
        "\n",
        "\n",
        "    def forward(self, x):\n",
        "        out = self.convolution(x)   # convolution layer 적용\n",
        "        out = out.view(out.size(0), -1)\n",
        "        out = self.fully_connected(out)  # fully connected layer 적용\n",
        "\n",
        "        out = F.log_softmax(out, dim=1)  # 모두 합쳐서 1이 되도록 normalize\n",
        "\n",
        "        return out"
      ]
    },
    {
      "cell_type": "code",
      "execution_count": 12,
      "metadata": {
        "id": "GixUM3a2Nz2-"
      },
      "outputs": [],
      "source": [
        "class fashion_mnist_alexnet(nn.Module):\n",
        "    def __init__(self):\n",
        "        super().__init__()\n",
        "        self.conv1 = nn.Sequential(\n",
        "\n",
        "            nn.Conv2d(in_channels=1, out_channels=96, kernel_size=11, stride=4, padding=0),\n",
        "            # 4D tensor : [number_of_kernels, input_channels, kernel_width, kernel_height]\n",
        "            # = 96x1x11x11\n",
        "            # input size : 1x227x227\n",
        "            # input size 정의 : (N, C, H, W) or (C, H, W)\n",
        "            # W' = (W-F+2P)/S + 1\n",
        "            # 55x55x96 feature map 생성 (55는 (227-11+1)/4)\n",
        "            # 최종적으로 227 -> 55\n",
        "            nn.ReLU(), # 96x55x55\n",
        "            nn.MaxPool2d(kernel_size=3, stride=2)\n",
        "            # 55 -> (55-3+1)/2 = 26.5 = 27\n",
        "            # 96x27x27 feature map 생성\n",
        "\n",
        "        )\n",
        "        self.conv2 = nn.Sequential(\n",
        "            nn.Conv2d(96, 256, 5, 1, 2), # in_channels: 96, out_channels: 256, kernel_size=5x5, stride=1, padding=2\n",
        "            # kernel 수 = 48x5x5 (드롭아웃을 사용했기 때문에 96/2=48) 형태의 256개\n",
        "            # 256x27x27\n",
        "            nn.ReLU(),\n",
        "            nn.MaxPool2d(3, 2) # 27 -> 13\n",
        "            # 256x13x13\n",
        "        )\n",
        "        self.conv3 = nn.Sequential(\n",
        "            nn.Conv2d(256, 384, 3, 1, 1),\n",
        "            nn.ReLU() # 13 유지\n",
        "            # 384x13x13\n",
        "        )\n",
        "        self.conv4 = nn.Sequential(\n",
        "            nn.Conv2d(384, 384, 3, 1, 1),\n",
        "            nn.ReLU() # 13 유지\n",
        "            # 384x13x13\n",
        "        )\n",
        "        self.conv5 = nn.Sequential(\n",
        "            nn.Conv2d(384, 256, 3, 1, 1),\n",
        "            nn.ReLU(),\n",
        "            nn.MaxPool2d(3, 2) # 13 -> 6\n",
        "            # 256x6x6\n",
        "        )\n",
        "\n",
        "        self.fc1 = nn.Linear(256 * 6 * 6, 4096)\n",
        "        self.fc2 = nn.Linear(4096, 4096)\n",
        "        self.fc3 = nn.Linear(4096, 10)\n",
        "\n",
        "    def forward(self, x): # input size = 3x227x227\n",
        "        out = self.conv1(x)\n",
        "        out = self.conv2(out)\n",
        "        out = self.conv3(out)\n",
        "        out = self.conv4(out)\n",
        "        out = self.conv5(out) # 64x4096x1x1\n",
        "        out = out.view(out.size(0), -1) # 64x4096\n",
        "\n",
        "        out = F.relu(self.fc1(out))\n",
        "        out = F.dropout(out, 0.5)\n",
        "        out = F.relu(self.fc2(out))\n",
        "        out = F.dropout(out, 0.5)\n",
        "        out = self.fc3(out)\n",
        "        out = F.log_softmax(out, dim=1)\n",
        "\n",
        "        return out"
      ]
    },
    {
      "cell_type": "code",
      "execution_count": 13,
      "metadata": {
        "id": "nID_YR_hkQcU"
      },
      "outputs": [],
      "source": [
        "model = fashion_mnist_alexnet().to(device)\n",
        "\n",
        "criterion = F.nll_loss\n",
        "optimizer = optim.Adam(model.parameters())"
      ]
    },
    {
      "cell_type": "code",
      "execution_count": 14,
      "metadata": {
        "colab": {
          "base_uri": "https://localhost:8080/"
        },
        "id": "dKkjZdRHkW97",
        "outputId": "1fc4fc03-828b-4290-e5d6-d0e9d48d029c"
      },
      "outputs": [
        {
          "output_type": "stream",
          "name": "stdout",
          "text": [
            "----------------------------------------------------------------\n",
            "        Layer (type)               Output Shape         Param #\n",
            "================================================================\n",
            "            Conv2d-1          [512, 96, 55, 55]          11,712\n",
            "              ReLU-2          [512, 96, 55, 55]               0\n",
            "         MaxPool2d-3          [512, 96, 27, 27]               0\n",
            "            Conv2d-4         [512, 256, 27, 27]         614,656\n",
            "              ReLU-5         [512, 256, 27, 27]               0\n",
            "         MaxPool2d-6         [512, 256, 13, 13]               0\n",
            "            Conv2d-7         [512, 384, 13, 13]         885,120\n",
            "              ReLU-8         [512, 384, 13, 13]               0\n",
            "            Conv2d-9         [512, 384, 13, 13]       1,327,488\n",
            "             ReLU-10         [512, 384, 13, 13]               0\n",
            "           Conv2d-11         [512, 256, 13, 13]         884,992\n",
            "             ReLU-12         [512, 256, 13, 13]               0\n",
            "        MaxPool2d-13           [512, 256, 6, 6]               0\n",
            "           Linear-14                [512, 4096]      37,752,832\n",
            "           Linear-15                [512, 4096]      16,781,312\n",
            "           Linear-16                  [512, 10]          40,970\n",
            "================================================================\n",
            "Total params: 58,299,082\n",
            "Trainable params: 58,299,082\n",
            "Non-trainable params: 0\n",
            "----------------------------------------------------------------\n",
            "Input size (MB): 100.64\n",
            "Forward/backward pass size (MB): 5589.16\n",
            "Params size (MB): 222.39\n",
            "Estimated Total Size (MB): 5912.20\n",
            "----------------------------------------------------------------\n"
          ]
        }
      ],
      "source": [
        "# get the model summary\n",
        "from torchsummary import summary\n",
        "summary(model, input_size=(1, 227, 227), batch_size=(512))"
      ]
    },
    {
      "cell_type": "markdown",
      "metadata": {
        "id": "klNGs4ckkf3H"
      },
      "source": [
        "# **train/test data 정의**"
      ]
    },
    {
      "cell_type": "code",
      "execution_count": 15,
      "metadata": {
        "id": "4Aas6c84kcO3"
      },
      "outputs": [],
      "source": [
        "def train(model, device, train_loader, optimizer, epoch):\n",
        "    model.train()\n",
        "    for batch_idx, (data, target) in enumerate(train_loader):\n",
        "        target = target.type(torch.LongTensor)\n",
        "        data, target = data.to(device), target.to(device)\n",
        "        optimizer.zero_grad()\n",
        "        output = model(data)\n",
        "        loss = criterion(output, target)\n",
        "        loss.backward()\n",
        "        optimizer.step()\n",
        "\n",
        "        if (batch_idx + 1) % 30 == 0:\n",
        "            print(\"Train Epoch:{} [{}/{} ({:.0f}%)]\\tLoss: {:.6f}\".format(\n",
        "                epoch, batch_idx * len(data), len(train_loader.dataset),\n",
        "                100. * batch_idx / len(train_loader), loss.item()))"
      ]
    },
    {
      "cell_type": "code",
      "execution_count": 16,
      "metadata": {
        "id": "QEmvAm8Vkl1X"
      },
      "outputs": [],
      "source": [
        "def test(model, device, test_loader):\n",
        "    model.eval()\n",
        "    test_loss = 0\n",
        "    correct = 0\n",
        "    with torch.no_grad():\n",
        "        for data, target in test_loader:\n",
        "            data, target = data.to(device), target.to(device)\n",
        "            output = model(data)\n",
        "            test_loss += criterion(output, target, reduction='sum').item()\n",
        "            pred = output.max(1, keepdim=True)[1]\n",
        "            correct += pred.eq(target.view_as(pred)).sum().item()\n",
        "\n",
        "        test_loss /= len(test_loader.dataset)  # -> mean\n",
        "        print(\"\\nTest set: Average loss: {:.4f}, Accuracy: {}/{} ({:.0f}%)\\n\".format(\n",
        "            test_loss, correct, len(test_loader.dataset), 100. * correct / len(test_loader.dataset)))\n",
        "        print('='*50)"
      ]
    },
    {
      "cell_type": "code",
      "execution_count": 17,
      "metadata": {
        "id": "g5SFp5HQkv_s",
        "colab": {
          "base_uri": "https://localhost:8080/"
        },
        "outputId": "b4e793e3-479a-42f1-8cf9-d1e13b12d90b"
      },
      "outputs": [
        {
          "output_type": "stream",
          "name": "stdout",
          "text": [
            "Train Epoch:1 [1856/60000 (3%)]\tLoss: 1.295359\n",
            "Train Epoch:1 [3776/60000 (6%)]\tLoss: 0.988595\n",
            "Train Epoch:1 [5696/60000 (9%)]\tLoss: 0.839602\n",
            "Train Epoch:1 [7616/60000 (13%)]\tLoss: 0.839296\n",
            "Train Epoch:1 [9536/60000 (16%)]\tLoss: 0.717556\n",
            "Train Epoch:1 [11456/60000 (19%)]\tLoss: 0.791267\n",
            "Train Epoch:1 [13376/60000 (22%)]\tLoss: 0.486481\n",
            "Train Epoch:1 [15296/60000 (25%)]\tLoss: 0.581685\n",
            "Train Epoch:1 [17216/60000 (29%)]\tLoss: 0.522989\n",
            "Train Epoch:1 [19136/60000 (32%)]\tLoss: 0.524876\n",
            "Train Epoch:1 [21056/60000 (35%)]\tLoss: 0.262690\n",
            "Train Epoch:1 [22976/60000 (38%)]\tLoss: 0.312685\n",
            "Train Epoch:1 [24896/60000 (41%)]\tLoss: 0.441465\n",
            "Train Epoch:1 [26816/60000 (45%)]\tLoss: 0.439115\n",
            "Train Epoch:1 [28736/60000 (48%)]\tLoss: 0.334717\n",
            "Train Epoch:1 [30656/60000 (51%)]\tLoss: 0.290875\n",
            "Train Epoch:1 [32576/60000 (54%)]\tLoss: 0.402364\n",
            "Train Epoch:1 [34496/60000 (57%)]\tLoss: 0.400181\n",
            "Train Epoch:1 [36416/60000 (61%)]\tLoss: 0.290692\n",
            "Train Epoch:1 [38336/60000 (64%)]\tLoss: 0.272816\n",
            "Train Epoch:1 [40256/60000 (67%)]\tLoss: 0.359211\n",
            "Train Epoch:1 [42176/60000 (70%)]\tLoss: 0.560981\n",
            "Train Epoch:1 [44096/60000 (73%)]\tLoss: 0.534161\n",
            "Train Epoch:1 [46016/60000 (77%)]\tLoss: 0.292606\n",
            "Train Epoch:1 [47936/60000 (80%)]\tLoss: 0.496416\n",
            "Train Epoch:1 [49856/60000 (83%)]\tLoss: 0.428074\n",
            "Train Epoch:1 [51776/60000 (86%)]\tLoss: 0.397975\n",
            "Train Epoch:1 [53696/60000 (89%)]\tLoss: 0.561938\n",
            "Train Epoch:1 [55616/60000 (93%)]\tLoss: 0.512998\n",
            "Train Epoch:1 [57536/60000 (96%)]\tLoss: 0.247120\n",
            "Train Epoch:1 [59456/60000 (99%)]\tLoss: 0.419360\n",
            "\n",
            "Test set: Average loss: 0.4166, Accuracy: 8460/10000 (85%)\n",
            "\n",
            "==================================================\n",
            "Train Epoch:2 [1856/60000 (3%)]\tLoss: 0.467956\n",
            "Train Epoch:2 [3776/60000 (6%)]\tLoss: 0.297841\n",
            "Train Epoch:2 [5696/60000 (9%)]\tLoss: 0.289026\n",
            "Train Epoch:2 [7616/60000 (13%)]\tLoss: 0.350463\n",
            "Train Epoch:2 [9536/60000 (16%)]\tLoss: 0.301711\n",
            "Train Epoch:2 [11456/60000 (19%)]\tLoss: 0.481999\n",
            "Train Epoch:2 [13376/60000 (22%)]\tLoss: 0.507403\n",
            "Train Epoch:2 [15296/60000 (25%)]\tLoss: 0.367302\n",
            "Train Epoch:2 [17216/60000 (29%)]\tLoss: 0.319530\n",
            "Train Epoch:2 [19136/60000 (32%)]\tLoss: 0.361610\n",
            "Train Epoch:2 [21056/60000 (35%)]\tLoss: 0.356839\n",
            "Train Epoch:2 [22976/60000 (38%)]\tLoss: 0.399781\n",
            "Train Epoch:2 [24896/60000 (41%)]\tLoss: 0.165326\n",
            "Train Epoch:2 [26816/60000 (45%)]\tLoss: 0.397717\n",
            "Train Epoch:2 [28736/60000 (48%)]\tLoss: 0.321787\n",
            "Train Epoch:2 [30656/60000 (51%)]\tLoss: 0.421411\n",
            "Train Epoch:2 [32576/60000 (54%)]\tLoss: 0.499288\n",
            "Train Epoch:2 [34496/60000 (57%)]\tLoss: 0.640281\n",
            "Train Epoch:2 [36416/60000 (61%)]\tLoss: 0.276363\n",
            "Train Epoch:2 [38336/60000 (64%)]\tLoss: 0.308177\n",
            "Train Epoch:2 [40256/60000 (67%)]\tLoss: 0.230460\n",
            "Train Epoch:2 [42176/60000 (70%)]\tLoss: 0.208803\n",
            "Train Epoch:2 [44096/60000 (73%)]\tLoss: 0.279329\n",
            "Train Epoch:2 [46016/60000 (77%)]\tLoss: 0.165404\n",
            "Train Epoch:2 [47936/60000 (80%)]\tLoss: 0.426062\n",
            "Train Epoch:2 [49856/60000 (83%)]\tLoss: 0.288760\n",
            "Train Epoch:2 [51776/60000 (86%)]\tLoss: 0.242030\n",
            "Train Epoch:2 [53696/60000 (89%)]\tLoss: 0.300710\n",
            "Train Epoch:2 [55616/60000 (93%)]\tLoss: 0.448823\n",
            "Train Epoch:2 [57536/60000 (96%)]\tLoss: 0.401091\n",
            "Train Epoch:2 [59456/60000 (99%)]\tLoss: 0.184974\n",
            "\n",
            "Test set: Average loss: 0.3408, Accuracy: 8777/10000 (88%)\n",
            "\n",
            "==================================================\n",
            "Train Epoch:3 [1856/60000 (3%)]\tLoss: 0.641552\n",
            "Train Epoch:3 [3776/60000 (6%)]\tLoss: 0.208937\n",
            "Train Epoch:3 [5696/60000 (9%)]\tLoss: 0.245848\n",
            "Train Epoch:3 [7616/60000 (13%)]\tLoss: 0.211564\n",
            "Train Epoch:3 [9536/60000 (16%)]\tLoss: 0.223450\n",
            "Train Epoch:3 [11456/60000 (19%)]\tLoss: 0.212469\n",
            "Train Epoch:3 [13376/60000 (22%)]\tLoss: 0.291943\n",
            "Train Epoch:3 [15296/60000 (25%)]\tLoss: 0.237795\n",
            "Train Epoch:3 [17216/60000 (29%)]\tLoss: 0.420036\n",
            "Train Epoch:3 [19136/60000 (32%)]\tLoss: 0.389551\n",
            "Train Epoch:3 [21056/60000 (35%)]\tLoss: 0.162116\n",
            "Train Epoch:3 [22976/60000 (38%)]\tLoss: 0.140431\n",
            "Train Epoch:3 [24896/60000 (41%)]\tLoss: 0.200861\n",
            "Train Epoch:3 [26816/60000 (45%)]\tLoss: 0.225832\n",
            "Train Epoch:3 [28736/60000 (48%)]\tLoss: 0.157986\n",
            "Train Epoch:3 [30656/60000 (51%)]\tLoss: 0.219745\n",
            "Train Epoch:3 [32576/60000 (54%)]\tLoss: 0.302633\n",
            "Train Epoch:3 [34496/60000 (57%)]\tLoss: 0.269608\n",
            "Train Epoch:3 [36416/60000 (61%)]\tLoss: 0.126142\n",
            "Train Epoch:3 [38336/60000 (64%)]\tLoss: 0.115265\n",
            "Train Epoch:3 [40256/60000 (67%)]\tLoss: 0.284516\n",
            "Train Epoch:3 [42176/60000 (70%)]\tLoss: 0.286348\n",
            "Train Epoch:3 [44096/60000 (73%)]\tLoss: 0.201789\n",
            "Train Epoch:3 [46016/60000 (77%)]\tLoss: 0.432239\n",
            "Train Epoch:3 [47936/60000 (80%)]\tLoss: 0.231415\n",
            "Train Epoch:3 [49856/60000 (83%)]\tLoss: 0.235304\n",
            "Train Epoch:3 [51776/60000 (86%)]\tLoss: 0.333263\n",
            "Train Epoch:3 [53696/60000 (89%)]\tLoss: 0.187010\n",
            "Train Epoch:3 [55616/60000 (93%)]\tLoss: 0.390822\n",
            "Train Epoch:3 [57536/60000 (96%)]\tLoss: 0.318969\n",
            "Train Epoch:3 [59456/60000 (99%)]\tLoss: 0.335066\n",
            "\n",
            "Test set: Average loss: 0.2985, Accuracy: 8917/10000 (89%)\n",
            "\n",
            "==================================================\n"
          ]
        }
      ],
      "source": [
        "for epoch in range(1, epochs+1):\n",
        "    train(model, device, training_loader, optimizer, epoch)\n",
        "    test(model, device, validation_loader)"
      ]
    },
    {
      "cell_type": "code",
      "execution_count": 1,
      "metadata": {
        "id": "6Abmqd3erYCH"
      },
      "outputs": [],
      "source": [
        "import tensorflow as tf\n",
        "from keras.preprocessing import image\n",
        "import matplotlib.pyplot as plt\n",
        "from skimage.transform import resize\n",
        "from keras.models import load_model"
      ]
    },
    {
      "cell_type": "code",
      "execution_count": 20,
      "metadata": {
        "colab": {
          "base_uri": "https://localhost:8080/",
          "height": 452
        },
        "id": "pbiTWshLpnAr",
        "outputId": "3b60d767-864e-44ea-f1c7-5148c2a326ac"
      },
      "outputs": [
        {
          "output_type": "execute_result",
          "data": {
            "text/plain": [
              "<matplotlib.image.AxesImage at 0x7b5c17ee6f50>"
            ]
          },
          "metadata": {},
          "execution_count": 20
        },
        {
          "output_type": "display_data",
          "data": {
            "text/plain": [
              "<Figure size 640x480 with 1 Axes>"
            ],
            "image/png": "[encoded data removed]"
          },
          "metadata": {}
        }
      ],
      "source": [
        "#이미지 불러오기\n",
        "sample = image.load_img('/pants_trial.jpeg')\n",
        "\n",
        "sample_vector = np.asarray(image.img_to_array(sample))\n",
        "sample_vector = sample_vector/255\n",
        "\n",
        "final_sample = resize(sample_vector, (227,227))\n",
        "final_sample.shape\n",
        "plt.imshow(final_sample)"
      ]
    }
  ],
  "metadata": {
    "accelerator": "GPU",
    "colab": {
      "provenance": [],
      "authorship_tag": "ABX9TyNOJjKLd17rZmebxg4LjPfq",
      "include_colab_link": true
    },
    "kernelspec": {
      "display_name": "Python 3",
      "name": "python3"
    },
    "language_info": {
      "name": "python"
    }
  },
  "nbformat": 4,
  "nbformat_minor": 0
}
